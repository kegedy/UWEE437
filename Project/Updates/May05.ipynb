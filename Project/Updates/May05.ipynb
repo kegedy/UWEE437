{
 "cells": [
  {
   "cell_type": "markdown",
   "id": "b29c3999",
   "metadata": {
    "slideshow": {
     "slide_type": "slide"
    }
   },
   "source": [
    "<H1 style=\"text-align: center;\"> Optical Transceiver</H1> \n",
    "<H2 style=\"text-align: center;\"> May 5, 2022</H2> "
   ]
  },
  {
   "cell_type": "markdown",
   "id": "dc2ff7ff",
   "metadata": {
    "slideshow": {
     "slide_type": "slide"
    }
   },
   "source": [
    "<H2>Budget Link</H2>  \n",
    "\n",
    "<H2></H2> \n",
    "\\begin{align*}\n",
    "P_R = P_T G_T L_T L_P L_S L_A L_R G_R\n",
    "\\end{align*}\n",
    "<H2></H2>\n",
    " \n",
    "\n",
    "\n",
    "\\begin{align*}\n",
    "P_T &= &\\text{Transmitter Power } \\\\[0.5em]\n",
    "G_T &= \\dfrac{16}{\\theta_T^2} &\\text{Transmitter Gain} \\\\[0.5em]\n",
    "L_T &  &\\text{Transmitter Loss} \\\\[0.5em]\n",
    "L_P &= exp{\\left(-2\\left(\\dfrac{\\Delta_{\\theta}}{\\theta_T}\\right)^2 \\right)} &\\text{Pointing Loss} \\\\\n",
    "L_S &=  \\left(\\dfrac{\\lambda}{4\\pi L} \\right)^2 &\\text{Free-Space Loss} \\\\[0.5em]\n",
    "L_A &  &\\text{Atmospheric Loss} \\\\[1em]\n",
    "L_R &  &\\text{Receiver Loss} \\\\\n",
    "G_R &= \\left(\\dfrac{\\pi D_R}{\\lambda} \\right)^2 &\\text{Receiver Gain} \\\\\n",
    "\\end{align*}"
   ]
  },
  {
   "cell_type": "markdown",
   "id": "9b01d8fe",
   "metadata": {
    "slideshow": {
     "slide_type": "slide"
    }
   },
   "source": [
    "<H2>Transmitter with EDFA</H2>\n",
    "<H2></H2> \n",
    "\n",
    "<center><img src='img/edfablockdiagramnew.png'></center> \n",
    "\n",
    "*Amplified Spontaneous Emission (ASE) filter*"
   ]
  },
  {
   "cell_type": "markdown",
   "id": "227263fb",
   "metadata": {
    "slideshow": {
     "slide_type": "slide"
    }
   },
   "source": [
    "<H2> Erbium-Doped Fiber Amplifier (EDFA)</H2>\n",
    "<H2></H2> \n",
    "\n",
    "<center><img src='img/er_pump_980nm_1480nm.png'></center> \n",
    "\n",
    "\n",
    "Er ion doped in the fiber absorbs the pump light and is excited to an excited state. When sufficient pump power is launched to the fiber and population inversion is created between the ground state and Excited state 1, amplification by stimulated emission takes place at around 1550 nm."
   ]
  },
  {
   "cell_type": "markdown",
   "id": "0f549833",
   "metadata": {
    "slideshow": {
     "slide_type": "slide"
    }
   },
   "source": [
    "<H2> Stimulated Emission</H2>\n",
    "<H2></H2> \n",
    "\n",
    "<center><img src='img/StimulatedEmission.png'></center> \n",
    "<H2></H2> \n",
    "<center><img src='img/metastable.png'></center> "
   ]
  },
  {
   "cell_type": "markdown",
   "id": "a0103a87",
   "metadata": {
    "slideshow": {
     "slide_type": "slide"
    }
   },
   "source": [
    "<H2> EDFA Model: 3 Level</H2>\n",
    "\n",
    "<center><img src='img/PopulationLevels.png'></center> \n",
    "\n",
    "\\begin{align*}\n",
    "\\phi &= \\text{flux} \\\\\n",
    "\\sigma &= \\text{cross section} \\\\\n",
    "I &= \\text{intensity [energy/area/time]} \\\\\n",
    "N &= \\text{population level} \\\\\n",
    "\\Gamma &= \\text{transition probability} \\\\\n",
    "\\end{align*}"
   ]
  },
  {
   "cell_type": "markdown",
   "id": "4ff100fc",
   "metadata": {
    "slideshow": {
     "slide_type": "slide"
    }
   },
   "source": [
    "<H2> EDFA Model: 2 Level (980nm)</H2>\n",
    "<H2></H2> \n",
    "\n",
    "<center><img src='img/pumpsignal.png'></center> \n",
    "\n",
    "For practical purposes, the population in level 3 is effectively zero in steady state.\n",
    "\n",
    "The lifetime of the metastable energy level is about 10 ms, which is much slower than the signal bit rates. As a result, inter-symbol distortion and inter-channel crosstalk are negligible."
   ]
  },
  {
   "cell_type": "markdown",
   "id": "cc7716e2",
   "metadata": {
    "slideshow": {
     "slide_type": "slide"
    }
   },
   "source": [
    "<H2> Pump Power & Signal Power</H2>\n",
    "<H2></H2> \n",
    "\n",
    "\\begin{align*}\n",
    "\\dfrac{dP_{p,i}^{+}(z)}{dz} &=  \\left(N_2(z)\\sigma_{p,i}^{(e)} - N_1(z)\\sigma_{p,i}^{(a)} \\right) \\Gamma_p P_{p,i}^{+}(z) \\\\\n",
    "\\\\\n",
    "\\dfrac{dP_{s,k}^{+}(z)}{dz} &=  \\bigg( \\dfrac{N_2(z)\\sigma_{s,k}^{(e)} - N_1(z)\\sigma_{s,k}^{(a)}}{1 + \\dfrac{P_{tot}(z)}{P_{sat}}} \\bigg) \\Gamma_p P_{s,k}^{+}(z) \\\\\n",
    "\\end{align*}\n",
    "\n",
    "\\begin{align*}\n",
    "P_{p,i} &= \\text{pump power on ith wavelength} \\\\\n",
    "P_{s,k} &= \\text{signal power on kth wavelength} \\\\\n",
    "P_{tot}(z) &=  \\text{total power at length }z \\\\\n",
    "P_{sat} &= \\text{maximum output power that can be achieved (for any input)}\n",
    "\\end{align*}\n",
    "\n",
    "*\\\"Long Reach RSOA based Passive Optical Networks\\\"*"
   ]
  },
  {
   "cell_type": "markdown",
   "id": "e0b5aabb",
   "metadata": {
    "slideshow": {
     "slide_type": "slide"
    }
   },
   "source": [
    "<H2> Common Values with 980nm pump</H2>\n",
    "<H2></H2> \n",
    "\n",
    "| Symbol | Parameter                                            | Value |\n",
    "|:-| :--------------------------------------------------------- |:-|\n",
    "| $N$  | Total erbium dopant concentration                           | $1$$\\cdot$ $10^{25}$ $m^{-3}$ |\n",
    "| $\\Gamma_s$ | Mode overlap factor for signal @ 1550 nm region       | $0.8$ |\n",
    "| $\\Gamma_p$ | Mode overlap factor for pump @ 980 nm                  | $0.85$ |\n",
    "| $\\sigma^{(a)}$ | Pump absorption cross-section @ 980 nm             | $2.58$$\\cdot$ $10$$^{-25}$ $m^2$ |\n",
    "| $\\sigma^{(e)}$ | Pump emission cross-section @ 980 nm               | $\\approx$$0$ |\n",
    "| $P_{sat}$ | Saturation output power                                 | $20$-$30$dBm |\n",
    "| $A_s$ | Effective area of cross-section for signal @ 1550 nm region | $52.6$$\\mu m^2$ |\n",
    "| $A_p$ | Effective area of cross-section for pump @ 980 nm           | $3.36$$\\mu m^2$ |\n",
    "| $L$ | Total length of fiber for pump @ 980 nm                     | $8.2$m |\n",
    "| $\\Delta(z)$ | Length of each small segment of the fibre             | $0.2$m |"
   ]
  },
  {
   "cell_type": "markdown",
   "id": "e2d25010",
   "metadata": {
    "slideshow": {
     "slide_type": "slide"
    }
   },
   "source": [
    "<H2> Simulation Results</H2>\n",
    "<H2></H2> \n",
    "\n",
    "<center><img src='img/EDFAgain_vs_PumpPower.png'></center> \n",
    "\n",
    "\n",
    "https://www.mathworks.com/matlabcentral/fileexchange/48263-erbium-doped-fiber-amplifiber-edfa-model"
   ]
  },
  {
   "cell_type": "markdown",
   "id": "6ec38c1d",
   "metadata": {
    "slideshow": {
     "slide_type": "slide"
    }
   },
   "source": [
    "<H2> Simulation Results</H2>\n",
    "<H2></H2> \n",
    "\n",
    "<center><img src='img/EDFAgain_vs_SignalPower.png'></center> \n",
    "\n",
    "\n",
    "https://www.mathworks.com/matlabcentral/fileexchange/48263-erbium-doped-fiber-amplifiber-edfa-model"
   ]
  },
  {
   "cell_type": "code",
   "execution_count": null,
   "id": "e7844a76",
   "metadata": {},
   "outputs": [],
   "source": []
  }
 ],
 "metadata": {
  "celltoolbar": "Slideshow",
  "kernelspec": {
   "display_name": "Python 3 (ipykernel)",
   "language": "python",
   "name": "python3"
  },
  "language_info": {
   "codemirror_mode": {
    "name": "ipython",
    "version": 3
   },
   "file_extension": ".py",
   "mimetype": "text/x-python",
   "name": "python",
   "nbconvert_exporter": "python",
   "pygments_lexer": "ipython3",
   "version": "3.7.9"
  },
  "varInspector": {
   "cols": {
    "lenName": 16,
    "lenType": 16,
    "lenVar": 40
   },
   "kernels_config": {
    "python": {
     "delete_cmd_postfix": "",
     "delete_cmd_prefix": "del ",
     "library": "var_list.py",
     "varRefreshCmd": "print(var_dic_list())"
    },
    "r": {
     "delete_cmd_postfix": ") ",
     "delete_cmd_prefix": "rm(",
     "library": "var_list.r",
     "varRefreshCmd": "cat(var_dic_list()) "
    }
   },
   "types_to_exclude": [
    "module",
    "function",
    "builtin_function_or_method",
    "instance",
    "_Feature"
   ],
   "window_display": false
  }
 },
 "nbformat": 4,
 "nbformat_minor": 5
}
